{
 "cells": [
  {
   "cell_type": "code",
   "execution_count": 9,
   "id": "818ab5b3",
   "metadata": {},
   "outputs": [],
   "source": [
    "import pickle\n",
    "import pandas as pd\n",
    "import random"
   ]
  },
  {
   "cell_type": "code",
   "execution_count": 28,
   "id": "69a3b1e2",
   "metadata": {},
   "outputs": [],
   "source": [
    "#Load in fitted model and get feature names and typical values\n",
    "features_frame = pd.read_csv('Input_Variables.csv')\n",
    "filepath = 'final_RF_model.sav'\n",
    "RF_FinalModel = pickle.load(open(filepath, 'rb'))"
   ]
  },
  {
   "cell_type": "code",
   "execution_count": 30,
   "id": "b8be628d",
   "metadata": {},
   "outputs": [],
   "source": [
    "prediction = RF_FinalModel.predict(test_patient)\n",
    "pred_prob = RF_FinalModel.predict_proba(test_patient)[:,1]"
   ]
  },
  {
   "cell_type": "code",
   "execution_count": 57,
   "id": "0a8a0b4b",
   "metadata": {},
   "outputs": [],
   "source": [
    "#Randomly Pull one patient to test then return prediction\n",
    "def model_test():\n",
    "    row = random.randrange(0,len(features_frame))\n",
    "    test_patient = features_frame.iloc[[row]]\n",
    "    prediction = RF_FinalModel.predict(test_patient)\n",
    "    pred_prob = RF_FinalModel.predict_proba(test_patient)[:,1]\n",
    "    if prediction == 1:\n",
    "        print('This patient is at risk of developing cardiovascular disease with a predicted probability of:',pred_prob)\n",
    "    else:\n",
    "        print('This patient is not at risk of developing cardiovascular disease')"
   ]
  },
  {
   "cell_type": "code",
   "execution_count": null,
   "id": "5cb892ee",
   "metadata": {},
   "outputs": [],
   "source": [
    "model_test()"
   ]
  }
 ],
 "metadata": {
  "kernelspec": {
   "display_name": "Python 3 (ipykernel)",
   "language": "python",
   "name": "python3"
  },
  "language_info": {
   "codemirror_mode": {
    "name": "ipython",
    "version": 3
   },
   "file_extension": ".py",
   "mimetype": "text/x-python",
   "name": "python",
   "nbconvert_exporter": "python",
   "pygments_lexer": "ipython3",
   "version": "3.9.7"
  }
 },
 "nbformat": 4,
 "nbformat_minor": 5
}
