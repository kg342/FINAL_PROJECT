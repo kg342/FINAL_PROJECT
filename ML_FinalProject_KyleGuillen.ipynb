{
 "cells": [
  {
   "cell_type": "code",
   "execution_count": 129,
   "metadata": {
    "id": "UAOy0tWarF1N"
   },
   "outputs": [],
   "source": [
    "#Import Necessary Libraries\n",
    "import numpy as np\n",
    "import pandas as pd\n",
    "import matplotlib.pyplot as plt\n",
    "from sklearn.model_selection import train_test_split\n",
    "from sklearn.impute import SimpleImputer\n",
    "from sklearn.tree import DecisionTreeClassifier\n",
    "from sklearn.ensemble import RandomForestClassifier\n",
    "from sklearn import metrics\n",
    "\n",
    "import pickle\n",
    "\n",
    "#To test Iterative imputer\n",
    "# explicitly require this experimental feature\n",
    "from sklearn.experimental import enable_iterative_imputer\n",
    "# now you can import normally from sklearn.impute\n",
    "from sklearn.impute import IterativeImputer"
   ]
  },
  {
   "cell_type": "markdown",
   "metadata": {
    "id": "KD-lsBlwpimu"
   },
   "source": [
    "## Combining Cardio dataset with Sleep dataset\n",
    "### can be skipped using final cleaned file"
   ]
  },
  {
   "cell_type": "code",
   "execution_count": 23,
   "metadata": {
    "id": "KVfrIgQar89H"
   },
   "outputs": [],
   "source": [
    "data = pd.read_csv('/content/CVD_Integrated_Cleaned.csv')\n",
    "sleep_data = pd.read_csv('/content/shhs1-dataset-0.13.0.csv')"
   ]
  },
  {
   "cell_type": "code",
   "execution_count": 24,
   "metadata": {
    "colab": {
     "base_uri": "https://localhost:8080/"
    },
    "id": "neN9DtflsF6i",
    "outputId": "628c3012-7e2f-444d-b904-277d51cde239"
   },
   "outputs": [
    {
     "data": {
      "text/plain": [
       "(5804, 1279)"
      ]
     },
     "execution_count": 24,
     "metadata": {},
     "output_type": "execute_result"
    }
   ],
   "source": [
    "data.shape\n",
    "sleep_data.shape"
   ]
  },
  {
   "cell_type": "code",
   "execution_count": 25,
   "metadata": {
    "colab": {
     "base_uri": "https://localhost:8080/"
    },
    "id": "AFcVs921iCep",
    "outputId": "8d67054f-47a6-4aaa-e55c-3a956a8820b8"
   },
   "outputs": [
    {
     "data": {
      "text/plain": [
       "nsrrid         0\n",
       "pptid          0\n",
       "ecgdate     1600\n",
       "lvh3_1      1689\n",
       "lvh3_3      2455\n",
       "            ... \n",
       "Chinqual       0\n",
       "Oximqual       0\n",
       "Posqual        0\n",
       "LightOff     468\n",
       "rcrdtime       0\n",
       "Length: 1279, dtype: int64"
      ]
     },
     "execution_count": 25,
     "metadata": {},
     "output_type": "execute_result"
    }
   ],
   "source": [
    "sleep_data.isna().sum()"
   ]
  },
  {
   "cell_type": "markdown",
   "metadata": {
    "id": "owUJkUVzhPeB"
   },
   "source": [
    "### Merge in Sleep Data dataset based on patient ID (nsrrid)"
   ]
  },
  {
   "cell_type": "code",
   "execution_count": 26,
   "metadata": {
    "id": "Bvcou0-yhOyi"
   },
   "outputs": [],
   "source": [
    "combine_data = data.merge(sleep_data, on='nsrrid', how='left')"
   ]
  },
  {
   "cell_type": "code",
   "execution_count": 27,
   "metadata": {
    "id": "c4mdeAJQigRh"
   },
   "outputs": [],
   "source": [
    "#combine_data.to_csv('Combined_Data.csv')"
   ]
  },
  {
   "cell_type": "markdown",
   "metadata": {
    "id": "XzX_RdEKpyZW"
   },
   "source": [
    "# Start from here using clean dataset"
   ]
  },
  {
   "cell_type": "code",
   "execution_count": 4,
   "metadata": {
    "id": "gWIvlBVvp1_0"
   },
   "outputs": [],
   "source": [
    "data_simp = pd.read_csv('Combined_Data_Cleaned.csv')\n",
    "#data_iter = pd.read_csv('Combined_Data_Cleaned.csv')"
   ]
  },
  {
   "cell_type": "code",
   "execution_count": 5,
   "metadata": {
    "colab": {
     "base_uri": "https://localhost:8080/"
    },
    "id": "vhSB-d3SMt72",
    "outputId": "fe98a25e-1462-4830-85ac-efa6713fc7c7"
   },
   "outputs": [
    {
     "data": {
      "text/plain": [
       "nsrrid        0\n",
       "5_CVD_YN      0\n",
       "chf           0\n",
       "mi            0\n",
       "angina        0\n",
       "           ... \n",
       "EOGLqual      0\n",
       "Chinqual      0\n",
       "Oximqual      0\n",
       "Posqual       0\n",
       "LightOff    361\n",
       "Length: 738, dtype: int64"
      ]
     },
     "execution_count": 5,
     "metadata": {},
     "output_type": "execute_result"
    }
   ],
   "source": [
    "data_simp.isna().sum()"
   ]
  },
  {
   "cell_type": "code",
   "execution_count": 6,
   "metadata": {
    "colab": {
     "base_uri": "https://localhost:8080/",
     "height": 393
    },
    "id": "na2RzE38sF__",
    "outputId": "a25cb8e5-04fe-4e3a-bc8f-181b244986cc"
   },
   "outputs": [
    {
     "data": {
      "text/html": [
       "<div>\n",
       "<style scoped>\n",
       "    .dataframe tbody tr th:only-of-type {\n",
       "        vertical-align: middle;\n",
       "    }\n",
       "\n",
       "    .dataframe tbody tr th {\n",
       "        vertical-align: top;\n",
       "    }\n",
       "\n",
       "    .dataframe thead th {\n",
       "        text-align: right;\n",
       "    }\n",
       "</style>\n",
       "<table border=\"1\" class=\"dataframe\">\n",
       "  <thead>\n",
       "    <tr style=\"text-align: right;\">\n",
       "      <th></th>\n",
       "      <th>nsrrid</th>\n",
       "      <th>5_CVD_YN</th>\n",
       "      <th>chf</th>\n",
       "      <th>mi</th>\n",
       "      <th>angina</th>\n",
       "      <th>stroke</th>\n",
       "      <th>chd</th>\n",
       "      <th>age_s1_common</th>\n",
       "      <th>race_common</th>\n",
       "      <th>gender_x</th>\n",
       "      <th>...</th>\n",
       "      <th>Chstqual</th>\n",
       "      <th>Abdoqual</th>\n",
       "      <th>EEG1qual</th>\n",
       "      <th>EEG2qual</th>\n",
       "      <th>EOGRqual</th>\n",
       "      <th>EOGLqual</th>\n",
       "      <th>Chinqual</th>\n",
       "      <th>Oximqual</th>\n",
       "      <th>Posqual</th>\n",
       "      <th>LightOff</th>\n",
       "    </tr>\n",
       "  </thead>\n",
       "  <tbody>\n",
       "    <tr>\n",
       "      <th>count</th>\n",
       "      <td>4337.000000</td>\n",
       "      <td>4337.000000</td>\n",
       "      <td>4337.000000</td>\n",
       "      <td>4337.000000</td>\n",
       "      <td>4337.000000</td>\n",
       "      <td>4337.000000</td>\n",
       "      <td>4337.000000</td>\n",
       "      <td>4337.000000</td>\n",
       "      <td>4337.000000</td>\n",
       "      <td>4337.000000</td>\n",
       "      <td>...</td>\n",
       "      <td>4335.000000</td>\n",
       "      <td>4334.000000</td>\n",
       "      <td>4337.000000</td>\n",
       "      <td>4337.000000</td>\n",
       "      <td>4337.000000</td>\n",
       "      <td>4337.000000</td>\n",
       "      <td>4337.000000</td>\n",
       "      <td>4337.000000</td>\n",
       "      <td>4337.000000</td>\n",
       "      <td>3976.000000</td>\n",
       "    </tr>\n",
       "    <tr>\n",
       "      <th>mean</th>\n",
       "      <td>203170.070556</td>\n",
       "      <td>0.527554</td>\n",
       "      <td>0.181462</td>\n",
       "      <td>0.070325</td>\n",
       "      <td>0.472677</td>\n",
       "      <td>0.063177</td>\n",
       "      <td>0.127738</td>\n",
       "      <td>62.826608</td>\n",
       "      <td>1.205672</td>\n",
       "      <td>1.558681</td>\n",
       "      <td>...</td>\n",
       "      <td>3.380623</td>\n",
       "      <td>3.403553</td>\n",
       "      <td>3.543233</td>\n",
       "      <td>3.482131</td>\n",
       "      <td>3.855661</td>\n",
       "      <td>3.850357</td>\n",
       "      <td>3.425409</td>\n",
       "      <td>3.904081</td>\n",
       "      <td>3.918377</td>\n",
       "      <td>0.434356</td>\n",
       "    </tr>\n",
       "    <tr>\n",
       "      <th>std</th>\n",
       "      <td>1667.669657</td>\n",
       "      <td>0.499298</td>\n",
       "      <td>0.762683</td>\n",
       "      <td>0.303558</td>\n",
       "      <td>0.600394</td>\n",
       "      <td>0.388573</td>\n",
       "      <td>0.333836</td>\n",
       "      <td>10.960382</td>\n",
       "      <td>0.551445</td>\n",
       "      <td>0.496602</td>\n",
       "      <td>...</td>\n",
       "      <td>0.916945</td>\n",
       "      <td>0.910637</td>\n",
       "      <td>0.712329</td>\n",
       "      <td>0.804001</td>\n",
       "      <td>0.451944</td>\n",
       "      <td>0.462097</td>\n",
       "      <td>0.947433</td>\n",
       "      <td>0.302243</td>\n",
       "      <td>0.286177</td>\n",
       "      <td>0.495734</td>\n",
       "    </tr>\n",
       "    <tr>\n",
       "      <th>min</th>\n",
       "      <td>200077.000000</td>\n",
       "      <td>0.000000</td>\n",
       "      <td>0.000000</td>\n",
       "      <td>0.000000</td>\n",
       "      <td>0.000000</td>\n",
       "      <td>0.000000</td>\n",
       "      <td>0.000000</td>\n",
       "      <td>39.000000</td>\n",
       "      <td>1.000000</td>\n",
       "      <td>1.000000</td>\n",
       "      <td>...</td>\n",
       "      <td>1.000000</td>\n",
       "      <td>1.000000</td>\n",
       "      <td>1.000000</td>\n",
       "      <td>1.000000</td>\n",
       "      <td>1.000000</td>\n",
       "      <td>1.000000</td>\n",
       "      <td>1.000000</td>\n",
       "      <td>1.000000</td>\n",
       "      <td>1.000000</td>\n",
       "      <td>0.000000</td>\n",
       "    </tr>\n",
       "    <tr>\n",
       "      <th>25%</th>\n",
       "      <td>201635.000000</td>\n",
       "      <td>0.000000</td>\n",
       "      <td>0.000000</td>\n",
       "      <td>0.000000</td>\n",
       "      <td>0.000000</td>\n",
       "      <td>0.000000</td>\n",
       "      <td>0.000000</td>\n",
       "      <td>55.000000</td>\n",
       "      <td>1.000000</td>\n",
       "      <td>1.000000</td>\n",
       "      <td>...</td>\n",
       "      <td>3.000000</td>\n",
       "      <td>3.000000</td>\n",
       "      <td>3.000000</td>\n",
       "      <td>3.000000</td>\n",
       "      <td>4.000000</td>\n",
       "      <td>4.000000</td>\n",
       "      <td>3.000000</td>\n",
       "      <td>4.000000</td>\n",
       "      <td>4.000000</td>\n",
       "      <td>0.000000</td>\n",
       "    </tr>\n",
       "    <tr>\n",
       "      <th>50%</th>\n",
       "      <td>203412.000000</td>\n",
       "      <td>1.000000</td>\n",
       "      <td>0.000000</td>\n",
       "      <td>0.000000</td>\n",
       "      <td>0.000000</td>\n",
       "      <td>0.000000</td>\n",
       "      <td>0.000000</td>\n",
       "      <td>62.000000</td>\n",
       "      <td>1.000000</td>\n",
       "      <td>2.000000</td>\n",
       "      <td>...</td>\n",
       "      <td>4.000000</td>\n",
       "      <td>4.000000</td>\n",
       "      <td>4.000000</td>\n",
       "      <td>4.000000</td>\n",
       "      <td>4.000000</td>\n",
       "      <td>4.000000</td>\n",
       "      <td>4.000000</td>\n",
       "      <td>4.000000</td>\n",
       "      <td>4.000000</td>\n",
       "      <td>0.000000</td>\n",
       "    </tr>\n",
       "    <tr>\n",
       "      <th>75%</th>\n",
       "      <td>204588.000000</td>\n",
       "      <td>1.000000</td>\n",
       "      <td>0.000000</td>\n",
       "      <td>0.000000</td>\n",
       "      <td>1.000000</td>\n",
       "      <td>0.000000</td>\n",
       "      <td>0.000000</td>\n",
       "      <td>71.000000</td>\n",
       "      <td>1.000000</td>\n",
       "      <td>2.000000</td>\n",
       "      <td>...</td>\n",
       "      <td>4.000000</td>\n",
       "      <td>4.000000</td>\n",
       "      <td>4.000000</td>\n",
       "      <td>4.000000</td>\n",
       "      <td>4.000000</td>\n",
       "      <td>4.000000</td>\n",
       "      <td>4.000000</td>\n",
       "      <td>4.000000</td>\n",
       "      <td>4.000000</td>\n",
       "      <td>1.000000</td>\n",
       "    </tr>\n",
       "    <tr>\n",
       "      <th>max</th>\n",
       "      <td>205804.000000</td>\n",
       "      <td>1.000000</td>\n",
       "      <td>13.000000</td>\n",
       "      <td>4.000000</td>\n",
       "      <td>6.000000</td>\n",
       "      <td>9.000000</td>\n",
       "      <td>1.000000</td>\n",
       "      <td>90.000000</td>\n",
       "      <td>3.000000</td>\n",
       "      <td>2.000000</td>\n",
       "      <td>...</td>\n",
       "      <td>4.000000</td>\n",
       "      <td>4.000000</td>\n",
       "      <td>4.000000</td>\n",
       "      <td>4.000000</td>\n",
       "      <td>4.000000</td>\n",
       "      <td>4.000000</td>\n",
       "      <td>4.000000</td>\n",
       "      <td>4.000000</td>\n",
       "      <td>4.000000</td>\n",
       "      <td>1.000000</td>\n",
       "    </tr>\n",
       "  </tbody>\n",
       "</table>\n",
       "<p>8 rows × 738 columns</p>\n",
       "</div>"
      ],
      "text/plain": [
       "              nsrrid     5_CVD_YN          chf           mi       angina  \\\n",
       "count    4337.000000  4337.000000  4337.000000  4337.000000  4337.000000   \n",
       "mean   203170.070556     0.527554     0.181462     0.070325     0.472677   \n",
       "std      1667.669657     0.499298     0.762683     0.303558     0.600394   \n",
       "min    200077.000000     0.000000     0.000000     0.000000     0.000000   \n",
       "25%    201635.000000     0.000000     0.000000     0.000000     0.000000   \n",
       "50%    203412.000000     1.000000     0.000000     0.000000     0.000000   \n",
       "75%    204588.000000     1.000000     0.000000     0.000000     1.000000   \n",
       "max    205804.000000     1.000000    13.000000     4.000000     6.000000   \n",
       "\n",
       "            stroke          chd  age_s1_common  race_common     gender_x  ...  \\\n",
       "count  4337.000000  4337.000000    4337.000000  4337.000000  4337.000000  ...   \n",
       "mean      0.063177     0.127738      62.826608     1.205672     1.558681  ...   \n",
       "std       0.388573     0.333836      10.960382     0.551445     0.496602  ...   \n",
       "min       0.000000     0.000000      39.000000     1.000000     1.000000  ...   \n",
       "25%       0.000000     0.000000      55.000000     1.000000     1.000000  ...   \n",
       "50%       0.000000     0.000000      62.000000     1.000000     2.000000  ...   \n",
       "75%       0.000000     0.000000      71.000000     1.000000     2.000000  ...   \n",
       "max       9.000000     1.000000      90.000000     3.000000     2.000000  ...   \n",
       "\n",
       "          Chstqual     Abdoqual     EEG1qual     EEG2qual     EOGRqual  \\\n",
       "count  4335.000000  4334.000000  4337.000000  4337.000000  4337.000000   \n",
       "mean      3.380623     3.403553     3.543233     3.482131     3.855661   \n",
       "std       0.916945     0.910637     0.712329     0.804001     0.451944   \n",
       "min       1.000000     1.000000     1.000000     1.000000     1.000000   \n",
       "25%       3.000000     3.000000     3.000000     3.000000     4.000000   \n",
       "50%       4.000000     4.000000     4.000000     4.000000     4.000000   \n",
       "75%       4.000000     4.000000     4.000000     4.000000     4.000000   \n",
       "max       4.000000     4.000000     4.000000     4.000000     4.000000   \n",
       "\n",
       "          EOGLqual     Chinqual     Oximqual      Posqual     LightOff  \n",
       "count  4337.000000  4337.000000  4337.000000  4337.000000  3976.000000  \n",
       "mean      3.850357     3.425409     3.904081     3.918377     0.434356  \n",
       "std       0.462097     0.947433     0.302243     0.286177     0.495734  \n",
       "min       1.000000     1.000000     1.000000     1.000000     0.000000  \n",
       "25%       4.000000     3.000000     4.000000     4.000000     0.000000  \n",
       "50%       4.000000     4.000000     4.000000     4.000000     0.000000  \n",
       "75%       4.000000     4.000000     4.000000     4.000000     1.000000  \n",
       "max       4.000000     4.000000     4.000000     4.000000     1.000000  \n",
       "\n",
       "[8 rows x 738 columns]"
      ]
     },
     "execution_count": 6,
     "metadata": {},
     "output_type": "execute_result"
    }
   ],
   "source": [
    "data_simp.describe()"
   ]
  },
  {
   "cell_type": "markdown",
   "metadata": {
    "id": "8RKQwKufsOUZ"
   },
   "source": [
    "## We will need to impute missing values in order to use ML models\n",
    "### Features with >700 null values have already been removed due to invalidity"
   ]
  },
  {
   "cell_type": "code",
   "execution_count": 7,
   "metadata": {
    "id": "2-pnwsj1saiq"
   },
   "outputs": [],
   "source": [
    "simp = SimpleImputer(missing_values=np.nan, strategy='median')\n",
    "#iter = IterativeImputer(random_state=4, initial_strategy='median', max_iter=6)"
   ]
  },
  {
   "cell_type": "markdown",
   "metadata": {
    "id": "B-i_pXlFvz8z"
   },
   "source": [
    "### Using Simple imputer:"
   ]
  },
  {
   "cell_type": "code",
   "execution_count": 8,
   "metadata": {
    "id": "05ONhUBct0jF"
   },
   "outputs": [],
   "source": [
    "data_simp[:] = simp.fit_transform(data_simp)"
   ]
  },
  {
   "cell_type": "code",
   "execution_count": 9,
   "metadata": {
    "colab": {
     "base_uri": "https://localhost:8080/"
    },
    "id": "Sq_bDzb3uDdA",
    "outputId": "7e383b6c-d70e-4bb6-b652-0f1f3fe881ae"
   },
   "outputs": [
    {
     "data": {
      "text/plain": [
       "nsrrid      0\n",
       "5_CVD_YN    0\n",
       "chf         0\n",
       "mi          0\n",
       "angina      0\n",
       "           ..\n",
       "EOGLqual    0\n",
       "Chinqual    0\n",
       "Oximqual    0\n",
       "Posqual     0\n",
       "LightOff    0\n",
       "Length: 738, dtype: int64"
      ]
     },
     "execution_count": 9,
     "metadata": {},
     "output_type": "execute_result"
    }
   ],
   "source": [
    "data_simp.isna().sum()"
   ]
  },
  {
   "cell_type": "markdown",
   "metadata": {
    "id": "SszrIHO6v4sZ"
   },
   "source": [
    "### Using Iterative imputer:\n",
    "\n",
    "Ended up not working"
   ]
  },
  {
   "cell_type": "code",
   "execution_count": null,
   "metadata": {
    "id": "KnAIuIRev4Gr"
   },
   "outputs": [],
   "source": [
    "#crashed due to overuse of RAM\n",
    "\n",
    "#data_iter[:] = iter.fit_transform(data_iter)"
   ]
  },
  {
   "cell_type": "markdown",
   "metadata": {
    "id": "qA7bqcQktEG4"
   },
   "source": [
    "## Search for Imbalance in the target variable"
   ]
  },
  {
   "cell_type": "code",
   "execution_count": 31,
   "metadata": {
    "colab": {
     "base_uri": "https://localhost:8080/"
    },
    "id": "GTsvZYgAsGCV",
    "outputId": "ef9eb701-feae-4638-9d44-5753f34367e2"
   },
   "outputs": [
    {
     "name": "stdout",
     "output_type": "stream",
     "text": [
      "(2288, 738)\n",
      "(2049, 738)\n"
     ]
    }
   ],
   "source": [
    "#See how many observations had Cardiovascular disease\n",
    "print(data[data['5_CVD_YN']==1].shape)\n",
    "print(data[data['5_CVD_YN']==0].shape)"
   ]
  },
  {
   "cell_type": "markdown",
   "metadata": {
    "id": "zvleo8SutenN"
   },
   "source": [
    "It appears that our dataset is not imbalanced"
   ]
  },
  {
   "cell_type": "markdown",
   "metadata": {
    "id": "cRc3BuVHuHDt"
   },
   "source": [
    "## Split our data into training and testing data"
   ]
  },
  {
   "cell_type": "code",
   "execution_count": 134,
   "metadata": {
    "colab": {
     "base_uri": "https://localhost:8080/",
     "height": 299
    },
    "id": "ScsiWYIJsGEa",
    "outputId": "8c48bba1-1b8f-41c1-af0e-d5f03803d787"
   },
   "outputs": [
    {
     "data": {
      "text/html": [
       "<div>\n",
       "<style scoped>\n",
       "    .dataframe tbody tr th:only-of-type {\n",
       "        vertical-align: middle;\n",
       "    }\n",
       "\n",
       "    .dataframe tbody tr th {\n",
       "        vertical-align: top;\n",
       "    }\n",
       "\n",
       "    .dataframe thead th {\n",
       "        text-align: right;\n",
       "    }\n",
       "</style>\n",
       "<table border=\"1\" class=\"dataframe\">\n",
       "  <thead>\n",
       "    <tr style=\"text-align: right;\">\n",
       "      <th></th>\n",
       "      <th>age_s1_common</th>\n",
       "      <th>gender_x</th>\n",
       "      <th>mstat</th>\n",
       "      <th>cmp1yr25</th>\n",
       "      <th>modact25</th>\n",
       "      <th>lift25</th>\n",
       "      <th>climbs25</th>\n",
       "      <th>climb125</th>\n",
       "      <th>bend25</th>\n",
       "      <th>bathe25</th>\n",
       "      <th>...</th>\n",
       "      <th>Chstqual</th>\n",
       "      <th>Abdoqual</th>\n",
       "      <th>EEG1qual</th>\n",
       "      <th>EEG2qual</th>\n",
       "      <th>EOGRqual</th>\n",
       "      <th>EOGLqual</th>\n",
       "      <th>Chinqual</th>\n",
       "      <th>Oximqual</th>\n",
       "      <th>Posqual</th>\n",
       "      <th>LightOff</th>\n",
       "    </tr>\n",
       "  </thead>\n",
       "  <tbody>\n",
       "    <tr>\n",
       "      <th>0</th>\n",
       "      <td>41.0</td>\n",
       "      <td>1.0</td>\n",
       "      <td>4.0</td>\n",
       "      <td>3.0</td>\n",
       "      <td>3.0</td>\n",
       "      <td>3.0</td>\n",
       "      <td>3.0</td>\n",
       "      <td>3.0</td>\n",
       "      <td>3.0</td>\n",
       "      <td>3.0</td>\n",
       "      <td>...</td>\n",
       "      <td>4.0</td>\n",
       "      <td>4.0</td>\n",
       "      <td>4.0</td>\n",
       "      <td>4.0</td>\n",
       "      <td>4.0</td>\n",
       "      <td>4.0</td>\n",
       "      <td>4.0</td>\n",
       "      <td>4.0</td>\n",
       "      <td>4.0</td>\n",
       "      <td>0.0</td>\n",
       "    </tr>\n",
       "    <tr>\n",
       "      <th>1</th>\n",
       "      <td>54.0</td>\n",
       "      <td>1.0</td>\n",
       "      <td>1.0</td>\n",
       "      <td>3.0</td>\n",
       "      <td>1.0</td>\n",
       "      <td>1.0</td>\n",
       "      <td>1.0</td>\n",
       "      <td>1.0</td>\n",
       "      <td>1.0</td>\n",
       "      <td>2.0</td>\n",
       "      <td>...</td>\n",
       "      <td>4.0</td>\n",
       "      <td>4.0</td>\n",
       "      <td>4.0</td>\n",
       "      <td>4.0</td>\n",
       "      <td>4.0</td>\n",
       "      <td>4.0</td>\n",
       "      <td>4.0</td>\n",
       "      <td>4.0</td>\n",
       "      <td>4.0</td>\n",
       "      <td>0.0</td>\n",
       "    </tr>\n",
       "    <tr>\n",
       "      <th>2</th>\n",
       "      <td>56.0</td>\n",
       "      <td>2.0</td>\n",
       "      <td>1.0</td>\n",
       "      <td>4.0</td>\n",
       "      <td>1.0</td>\n",
       "      <td>2.0</td>\n",
       "      <td>1.0</td>\n",
       "      <td>2.0</td>\n",
       "      <td>2.0</td>\n",
       "      <td>3.0</td>\n",
       "      <td>...</td>\n",
       "      <td>4.0</td>\n",
       "      <td>4.0</td>\n",
       "      <td>4.0</td>\n",
       "      <td>4.0</td>\n",
       "      <td>3.0</td>\n",
       "      <td>3.0</td>\n",
       "      <td>4.0</td>\n",
       "      <td>4.0</td>\n",
       "      <td>4.0</td>\n",
       "      <td>0.0</td>\n",
       "    </tr>\n",
       "    <tr>\n",
       "      <th>3</th>\n",
       "      <td>54.0</td>\n",
       "      <td>1.0</td>\n",
       "      <td>1.0</td>\n",
       "      <td>4.0</td>\n",
       "      <td>3.0</td>\n",
       "      <td>3.0</td>\n",
       "      <td>3.0</td>\n",
       "      <td>3.0</td>\n",
       "      <td>3.0</td>\n",
       "      <td>3.0</td>\n",
       "      <td>...</td>\n",
       "      <td>4.0</td>\n",
       "      <td>4.0</td>\n",
       "      <td>4.0</td>\n",
       "      <td>4.0</td>\n",
       "      <td>4.0</td>\n",
       "      <td>4.0</td>\n",
       "      <td>4.0</td>\n",
       "      <td>4.0</td>\n",
       "      <td>4.0</td>\n",
       "      <td>0.0</td>\n",
       "    </tr>\n",
       "    <tr>\n",
       "      <th>4</th>\n",
       "      <td>40.0</td>\n",
       "      <td>2.0</td>\n",
       "      <td>1.0</td>\n",
       "      <td>1.0</td>\n",
       "      <td>3.0</td>\n",
       "      <td>3.0</td>\n",
       "      <td>3.0</td>\n",
       "      <td>3.0</td>\n",
       "      <td>3.0</td>\n",
       "      <td>3.0</td>\n",
       "      <td>...</td>\n",
       "      <td>4.0</td>\n",
       "      <td>2.0</td>\n",
       "      <td>4.0</td>\n",
       "      <td>4.0</td>\n",
       "      <td>4.0</td>\n",
       "      <td>4.0</td>\n",
       "      <td>4.0</td>\n",
       "      <td>4.0</td>\n",
       "      <td>4.0</td>\n",
       "      <td>0.0</td>\n",
       "    </tr>\n",
       "  </tbody>\n",
       "</table>\n",
       "<p>5 rows × 722 columns</p>\n",
       "</div>"
      ],
      "text/plain": [
       "   age_s1_common  gender_x  mstat  cmp1yr25  modact25  lift25  climbs25  \\\n",
       "0           41.0       1.0    4.0       3.0       3.0     3.0       3.0   \n",
       "1           54.0       1.0    1.0       3.0       1.0     1.0       1.0   \n",
       "2           56.0       2.0    1.0       4.0       1.0     2.0       1.0   \n",
       "3           54.0       1.0    1.0       4.0       3.0     3.0       3.0   \n",
       "4           40.0       2.0    1.0       1.0       3.0     3.0       3.0   \n",
       "\n",
       "   climb125  bend25  bathe25  ...  Chstqual  Abdoqual  EEG1qual  EEG2qual  \\\n",
       "0       3.0     3.0      3.0  ...       4.0       4.0       4.0       4.0   \n",
       "1       1.0     1.0      2.0  ...       4.0       4.0       4.0       4.0   \n",
       "2       2.0     2.0      3.0  ...       4.0       4.0       4.0       4.0   \n",
       "3       3.0     3.0      3.0  ...       4.0       4.0       4.0       4.0   \n",
       "4       3.0     3.0      3.0  ...       4.0       2.0       4.0       4.0   \n",
       "\n",
       "   EOGRqual  EOGLqual  Chinqual  Oximqual  Posqual  LightOff  \n",
       "0       4.0       4.0       4.0       4.0      4.0       0.0  \n",
       "1       4.0       4.0       4.0       4.0      4.0       0.0  \n",
       "2       3.0       3.0       4.0       4.0      4.0       0.0  \n",
       "3       4.0       4.0       4.0       4.0      4.0       0.0  \n",
       "4       4.0       4.0       4.0       4.0      4.0       0.0  \n",
       "\n",
       "[5 rows x 722 columns]"
      ]
     },
     "execution_count": 134,
     "metadata": {},
     "output_type": "execute_result"
    }
   ],
   "source": [
    "#remove duplicative columns from dataset, split into dependent and independent variables\n",
    "y_data = data_simp['5_CVD_YN']\n",
    "X_data = data_simp.drop(columns=['5_CVD_YN','nsrrid','chf','mi','angina','stroke','chd','age_s1','age_category_s1',\n",
    "                                'race_common','hlthlm25','waist_x','ethnicity_x','diasbp','educat_x','diasbp_av'])\n",
    "X_data.head()"
   ]
  },
  {
   "cell_type": "code",
   "execution_count": 113,
   "metadata": {
    "id": "8bKCR2ZPKI-1"
   },
   "outputs": [],
   "source": [
    "X_train, X_test, y_train, y_test = train_test_split(X_data, y_data, test_size=0.33, random_state=4)"
   ]
  },
  {
   "cell_type": "markdown",
   "metadata": {
    "id": "7AUBuZ4kJj6O"
   },
   "source": [
    "### Test Random Forest Models for best parameters"
   ]
  },
  {
   "cell_type": "markdown",
   "metadata": {},
   "source": [
    "#### Test baseline Random Forest"
   ]
  },
  {
   "cell_type": "code",
   "execution_count": 135,
   "metadata": {
    "id": "0qaPPxKIsGGw"
   },
   "outputs": [],
   "source": [
    "rf = RandomForestClassifier(random_state=4, n_estimators=100)"
   ]
  },
  {
   "cell_type": "code",
   "execution_count": 136,
   "metadata": {
    "colab": {
     "base_uri": "https://localhost:8080/",
     "height": 317
    },
    "id": "JblnR_B0KE4Y",
    "outputId": "45c23192-4fef-42eb-819e-2f044a2cc41f"
   },
   "outputs": [
    {
     "data": {
      "text/plain": [
       "RandomForestClassifier(random_state=4)"
      ]
     },
     "execution_count": 136,
     "metadata": {},
     "output_type": "execute_result"
    }
   ],
   "source": [
    "rf.fit(X_train,y_train)"
   ]
  },
  {
   "cell_type": "code",
   "execution_count": 137,
   "metadata": {
    "id": "57aAVjtWKE7M"
   },
   "outputs": [
    {
     "name": "stdout",
     "output_type": "stream",
     "text": [
      "0.7339385474860335 0.8040168105442258 0.8107049608355091 0.7652495378927912\n"
     ]
    }
   ],
   "source": [
    "pred = rf.predict(X_test)\n",
    "prob = rf.predict_proba(X_test)\n",
    "acc = metrics.accuracy_score(y_test,pred)\n",
    "auc = metrics.roc_auc_score(y_test,prob[:,1])\n",
    "recall = metrics.recall_score(y_test,pred)\n",
    "f1 = metrics.f1_score(y_test,pred)\n",
    "print(acc,auc,recall,f1)"
   ]
  },
  {
   "cell_type": "markdown",
   "metadata": {},
   "source": [
    "#### Loop through hyper parameters to find best model\n",
    "#### In our context, recall will be more important than precision"
   ]
  },
  {
   "cell_type": "code",
   "execution_count": 138,
   "metadata": {},
   "outputs": [],
   "source": [
    "methods = ['gini','entropy']\n",
    "max_depth_options = [2,6,10,14,18,22]\n",
    "estimator_options = [100,200, 300, 400, 500]"
   ]
  },
  {
   "cell_type": "code",
   "execution_count": 139,
   "metadata": {
    "scrolled": false
   },
   "outputs": [
    {
     "name": "stdout",
     "output_type": "stream",
     "text": [
      "With criterion: gini max_depth: 2 and n_estimators: 100\n",
      "acc =  0.655 auc =  0.715 recall =  0.772 F1 score =  0.705\n",
      "~~~~~~~~~~~~~~~~~~~~~~~~~~~~~~~~~~~~~~~~~~~~~~~~~~~~~~\n",
      "With criterion: gini max_depth: 2 and n_estimators: 200\n",
      "acc =  0.66 auc =  0.72 recall =  0.769 F1 score =  0.708\n",
      "~~~~~~~~~~~~~~~~~~~~~~~~~~~~~~~~~~~~~~~~~~~~~~~~~~~~~~\n",
      "With criterion: gini max_depth: 2 and n_estimators: 300\n",
      "acc =  0.645 auc =  0.709 recall =  0.751 F1 score =  0.693\n",
      "~~~~~~~~~~~~~~~~~~~~~~~~~~~~~~~~~~~~~~~~~~~~~~~~~~~~~~\n",
      "With criterion: gini max_depth: 2 and n_estimators: 400\n",
      "acc =  0.647 auc =  0.708 recall =  0.751 F1 score =  0.695\n",
      "~~~~~~~~~~~~~~~~~~~~~~~~~~~~~~~~~~~~~~~~~~~~~~~~~~~~~~\n",
      "With criterion: gini max_depth: 2 and n_estimators: 500\n",
      "acc =  0.648 auc =  0.708 recall =  0.757 F1 score =  0.697\n",
      "~~~~~~~~~~~~~~~~~~~~~~~~~~~~~~~~~~~~~~~~~~~~~~~~~~~~~~\n",
      "With criterion: gini max_depth: 6 and n_estimators: 100\n",
      "acc =  0.711 auc =  0.773 recall =  0.815 F1 score =  0.751\n",
      "~~~~~~~~~~~~~~~~~~~~~~~~~~~~~~~~~~~~~~~~~~~~~~~~~~~~~~\n",
      "With criterion: gini max_depth: 6 and n_estimators: 200\n",
      "acc =  0.719 auc =  0.777 recall =  0.819 F1 score =  0.757\n",
      "~~~~~~~~~~~~~~~~~~~~~~~~~~~~~~~~~~~~~~~~~~~~~~~~~~~~~~\n",
      "With criterion: gini max_depth: 6 and n_estimators: 300\n",
      "acc =  0.719 auc =  0.775 recall =  0.812 F1 score =  0.755\n",
      "~~~~~~~~~~~~~~~~~~~~~~~~~~~~~~~~~~~~~~~~~~~~~~~~~~~~~~\n",
      "With criterion: gini max_depth: 6 and n_estimators: 400\n",
      "acc =  0.719 auc =  0.778 recall =  0.816 F1 score =  0.756\n",
      "~~~~~~~~~~~~~~~~~~~~~~~~~~~~~~~~~~~~~~~~~~~~~~~~~~~~~~\n",
      "With criterion: gini max_depth: 6 and n_estimators: 500\n",
      "acc =  0.723 auc =  0.778 recall =  0.813 F1 score =  0.759\n",
      "~~~~~~~~~~~~~~~~~~~~~~~~~~~~~~~~~~~~~~~~~~~~~~~~~~~~~~\n",
      "With criterion: gini max_depth: 10 and n_estimators: 100\n",
      "acc =  0.714 auc =  0.788 recall =  0.809 F1 score =  0.752\n",
      "~~~~~~~~~~~~~~~~~~~~~~~~~~~~~~~~~~~~~~~~~~~~~~~~~~~~~~\n",
      "With criterion: gini max_depth: 10 and n_estimators: 200\n",
      "acc =  0.724 auc =  0.801 recall =  0.819 F1 score =  0.76\n",
      "~~~~~~~~~~~~~~~~~~~~~~~~~~~~~~~~~~~~~~~~~~~~~~~~~~~~~~\n",
      "With criterion: gini max_depth: 10 and n_estimators: 300\n",
      "acc =  0.733 auc =  0.8 recall =  0.824 F1 score =  0.768\n",
      "~~~~~~~~~~~~~~~~~~~~~~~~~~~~~~~~~~~~~~~~~~~~~~~~~~~~~~\n",
      "With criterion: gini max_depth: 10 and n_estimators: 400\n",
      "acc =  0.73 auc =  0.802 recall =  0.821 F1 score =  0.765\n",
      "~~~~~~~~~~~~~~~~~~~~~~~~~~~~~~~~~~~~~~~~~~~~~~~~~~~~~~\n",
      "With criterion: gini max_depth: 10 and n_estimators: 500\n",
      "acc =  0.732 auc =  0.801 recall =  0.821 F1 score =  0.766\n",
      "~~~~~~~~~~~~~~~~~~~~~~~~~~~~~~~~~~~~~~~~~~~~~~~~~~~~~~\n",
      "With criterion: gini max_depth: 14 and n_estimators: 100\n",
      "acc =  0.721 auc =  0.791 recall =  0.805 F1 score =  0.755\n",
      "~~~~~~~~~~~~~~~~~~~~~~~~~~~~~~~~~~~~~~~~~~~~~~~~~~~~~~\n",
      "With criterion: gini max_depth: 14 and n_estimators: 200\n",
      "acc =  0.73 auc =  0.8 recall =  0.815 F1 score =  0.764\n",
      "~~~~~~~~~~~~~~~~~~~~~~~~~~~~~~~~~~~~~~~~~~~~~~~~~~~~~~\n",
      "With criterion: gini max_depth: 14 and n_estimators: 300\n",
      "acc =  0.735 auc =  0.802 recall =  0.82 F1 score =  0.768\n",
      "~~~~~~~~~~~~~~~~~~~~~~~~~~~~~~~~~~~~~~~~~~~~~~~~~~~~~~\n",
      "With criterion: gini max_depth: 14 and n_estimators: 400\n",
      "acc =  0.733 auc =  0.801 recall =  0.817 F1 score =  0.766\n",
      "~~~~~~~~~~~~~~~~~~~~~~~~~~~~~~~~~~~~~~~~~~~~~~~~~~~~~~\n",
      "With criterion: gini max_depth: 14 and n_estimators: 500\n",
      "acc =  0.729 auc =  0.802 recall =  0.816 F1 score =  0.763\n",
      "~~~~~~~~~~~~~~~~~~~~~~~~~~~~~~~~~~~~~~~~~~~~~~~~~~~~~~\n",
      "With criterion: gini max_depth: 18 and n_estimators: 100\n",
      "acc =  0.723 auc =  0.796 recall =  0.791 F1 score =  0.753\n",
      "~~~~~~~~~~~~~~~~~~~~~~~~~~~~~~~~~~~~~~~~~~~~~~~~~~~~~~\n",
      "With criterion: gini max_depth: 18 and n_estimators: 200\n",
      "acc =  0.728 auc =  0.804 recall =  0.807 F1 score =  0.761\n",
      "~~~~~~~~~~~~~~~~~~~~~~~~~~~~~~~~~~~~~~~~~~~~~~~~~~~~~~\n",
      "With criterion: gini max_depth: 18 and n_estimators: 300\n",
      "acc =  0.737 auc =  0.809 recall =  0.811 F1 score =  0.768\n",
      "~~~~~~~~~~~~~~~~~~~~~~~~~~~~~~~~~~~~~~~~~~~~~~~~~~~~~~\n",
      "With criterion: gini max_depth: 18 and n_estimators: 400\n",
      "acc =  0.74 auc =  0.808 recall =  0.813 F1 score =  0.77\n",
      "~~~~~~~~~~~~~~~~~~~~~~~~~~~~~~~~~~~~~~~~~~~~~~~~~~~~~~\n",
      "With criterion: gini max_depth: 18 and n_estimators: 500\n",
      "acc =  0.737 auc =  0.808 recall =  0.808 F1 score =  0.767\n",
      "~~~~~~~~~~~~~~~~~~~~~~~~~~~~~~~~~~~~~~~~~~~~~~~~~~~~~~\n",
      "With criterion: gini max_depth: 22 and n_estimators: 100\n",
      "acc =  0.735 auc =  0.801 recall =  0.812 F1 score =  0.766\n",
      "~~~~~~~~~~~~~~~~~~~~~~~~~~~~~~~~~~~~~~~~~~~~~~~~~~~~~~\n",
      "With criterion: gini max_depth: 22 and n_estimators: 200\n",
      "acc =  0.736 auc =  0.807 recall =  0.82 F1 score =  0.769\n",
      "~~~~~~~~~~~~~~~~~~~~~~~~~~~~~~~~~~~~~~~~~~~~~~~~~~~~~~\n",
      "With criterion: gini max_depth: 22 and n_estimators: 300\n",
      "acc =  0.737 auc =  0.811 recall =  0.813 F1 score =  0.768\n",
      "~~~~~~~~~~~~~~~~~~~~~~~~~~~~~~~~~~~~~~~~~~~~~~~~~~~~~~\n",
      "With criterion: gini max_depth: 22 and n_estimators: 400\n",
      "acc =  0.74 auc =  0.81 recall =  0.813 F1 score =  0.77\n",
      "~~~~~~~~~~~~~~~~~~~~~~~~~~~~~~~~~~~~~~~~~~~~~~~~~~~~~~\n",
      "With criterion: gini max_depth: 22 and n_estimators: 500\n",
      "acc =  0.733 auc =  0.809 recall =  0.811 F1 score =  0.765\n",
      "~~~~~~~~~~~~~~~~~~~~~~~~~~~~~~~~~~~~~~~~~~~~~~~~~~~~~~\n",
      "With criterion: entropy max_depth: 2 and n_estimators: 100\n",
      "acc =  0.649 auc =  0.71 recall =  0.77 F1 score =  0.702\n",
      "~~~~~~~~~~~~~~~~~~~~~~~~~~~~~~~~~~~~~~~~~~~~~~~~~~~~~~\n",
      "With criterion: entropy max_depth: 2 and n_estimators: 200\n",
      "acc =  0.654 auc =  0.717 recall =  0.765 F1 score =  0.703\n",
      "~~~~~~~~~~~~~~~~~~~~~~~~~~~~~~~~~~~~~~~~~~~~~~~~~~~~~~\n",
      "With criterion: entropy max_depth: 2 and n_estimators: 300\n",
      "acc =  0.639 auc =  0.707 recall =  0.743 F1 score =  0.688\n",
      "~~~~~~~~~~~~~~~~~~~~~~~~~~~~~~~~~~~~~~~~~~~~~~~~~~~~~~\n",
      "With criterion: entropy max_depth: 2 and n_estimators: 400\n",
      "acc =  0.644 auc =  0.706 recall =  0.753 F1 score =  0.694\n",
      "~~~~~~~~~~~~~~~~~~~~~~~~~~~~~~~~~~~~~~~~~~~~~~~~~~~~~~\n",
      "With criterion: entropy max_depth: 2 and n_estimators: 500\n",
      "acc =  0.644 auc =  0.707 recall =  0.752 F1 score =  0.693\n",
      "~~~~~~~~~~~~~~~~~~~~~~~~~~~~~~~~~~~~~~~~~~~~~~~~~~~~~~\n",
      "With criterion: entropy max_depth: 6 and n_estimators: 100\n",
      "acc =  0.717 auc =  0.773 recall =  0.817 F1 score =  0.756\n",
      "~~~~~~~~~~~~~~~~~~~~~~~~~~~~~~~~~~~~~~~~~~~~~~~~~~~~~~\n",
      "With criterion: entropy max_depth: 6 and n_estimators: 200\n",
      "acc =  0.726 auc =  0.783 recall =  0.824 F1 score =  0.763\n",
      "~~~~~~~~~~~~~~~~~~~~~~~~~~~~~~~~~~~~~~~~~~~~~~~~~~~~~~\n",
      "With criterion: entropy max_depth: 6 and n_estimators: 300\n",
      "acc =  0.725 auc =  0.777 recall =  0.821 F1 score =  0.762\n",
      "~~~~~~~~~~~~~~~~~~~~~~~~~~~~~~~~~~~~~~~~~~~~~~~~~~~~~~\n",
      "With criterion: entropy max_depth: 6 and n_estimators: 400\n",
      "acc =  0.73 auc =  0.78 recall =  0.828 F1 score =  0.767\n",
      "~~~~~~~~~~~~~~~~~~~~~~~~~~~~~~~~~~~~~~~~~~~~~~~~~~~~~~\n",
      "With criterion: entropy max_depth: 6 and n_estimators: 500\n",
      "acc =  0.73 auc =  0.78 recall =  0.826 F1 score =  0.766\n",
      "~~~~~~~~~~~~~~~~~~~~~~~~~~~~~~~~~~~~~~~~~~~~~~~~~~~~~~\n",
      "With criterion: entropy max_depth: 10 and n_estimators: 100\n",
      "acc =  0.728 auc =  0.8 recall =  0.826 F1 score =  0.765\n",
      "~~~~~~~~~~~~~~~~~~~~~~~~~~~~~~~~~~~~~~~~~~~~~~~~~~~~~~\n",
      "With criterion: entropy max_depth: 10 and n_estimators: 200\n",
      "acc =  0.735 auc =  0.807 recall =  0.829 F1 score =  0.77\n",
      "~~~~~~~~~~~~~~~~~~~~~~~~~~~~~~~~~~~~~~~~~~~~~~~~~~~~~~\n",
      "With criterion: entropy max_depth: 10 and n_estimators: 300\n",
      "acc =  0.735 auc =  0.806 recall =  0.819 F1 score =  0.767\n",
      "~~~~~~~~~~~~~~~~~~~~~~~~~~~~~~~~~~~~~~~~~~~~~~~~~~~~~~\n",
      "With criterion: entropy max_depth: 10 and n_estimators: 400\n",
      "acc =  0.74 auc =  0.806 recall =  0.833 F1 score =  0.774\n",
      "~~~~~~~~~~~~~~~~~~~~~~~~~~~~~~~~~~~~~~~~~~~~~~~~~~~~~~\n",
      "With criterion: entropy max_depth: 10 and n_estimators: 500\n",
      "acc =  0.735 auc =  0.805 recall =  0.829 F1 score =  0.77\n",
      "~~~~~~~~~~~~~~~~~~~~~~~~~~~~~~~~~~~~~~~~~~~~~~~~~~~~~~\n",
      "With criterion: entropy max_depth: 14 and n_estimators: 100\n",
      "acc =  0.728 auc =  0.804 recall =  0.822 F1 score =  0.764\n",
      "~~~~~~~~~~~~~~~~~~~~~~~~~~~~~~~~~~~~~~~~~~~~~~~~~~~~~~\n",
      "With criterion: entropy max_depth: 14 and n_estimators: 200\n",
      "acc =  0.726 auc =  0.802 recall =  0.821 F1 score =  0.762\n",
      "~~~~~~~~~~~~~~~~~~~~~~~~~~~~~~~~~~~~~~~~~~~~~~~~~~~~~~\n",
      "With criterion: entropy max_depth: 14 and n_estimators: 300\n",
      "acc =  0.737 auc =  0.803 recall =  0.826 F1 score =  0.771\n",
      "~~~~~~~~~~~~~~~~~~~~~~~~~~~~~~~~~~~~~~~~~~~~~~~~~~~~~~\n"
     ]
    },
    {
     "name": "stdout",
     "output_type": "stream",
     "text": [
      "With criterion: entropy max_depth: 14 and n_estimators: 400\n",
      "acc =  0.74 auc =  0.805 recall =  0.828 F1 score =  0.773\n",
      "~~~~~~~~~~~~~~~~~~~~~~~~~~~~~~~~~~~~~~~~~~~~~~~~~~~~~~\n",
      "With criterion: entropy max_depth: 14 and n_estimators: 500\n",
      "acc =  0.743 auc =  0.806 recall =  0.826 F1 score =  0.775\n",
      "~~~~~~~~~~~~~~~~~~~~~~~~~~~~~~~~~~~~~~~~~~~~~~~~~~~~~~\n",
      "With criterion: entropy max_depth: 18 and n_estimators: 100\n",
      "acc =  0.723 auc =  0.803 recall =  0.799 F1 score =  0.755\n",
      "~~~~~~~~~~~~~~~~~~~~~~~~~~~~~~~~~~~~~~~~~~~~~~~~~~~~~~\n",
      "With criterion: entropy max_depth: 18 and n_estimators: 200\n",
      "acc =  0.728 auc =  0.809 recall =  0.817 F1 score =  0.763\n",
      "~~~~~~~~~~~~~~~~~~~~~~~~~~~~~~~~~~~~~~~~~~~~~~~~~~~~~~\n",
      "With criterion: entropy max_depth: 18 and n_estimators: 300\n",
      "acc =  0.733 auc =  0.811 recall =  0.817 F1 score =  0.766\n",
      "~~~~~~~~~~~~~~~~~~~~~~~~~~~~~~~~~~~~~~~~~~~~~~~~~~~~~~\n",
      "With criterion: entropy max_depth: 18 and n_estimators: 400\n",
      "acc =  0.745 auc =  0.812 recall =  0.832 F1 score =  0.777\n",
      "~~~~~~~~~~~~~~~~~~~~~~~~~~~~~~~~~~~~~~~~~~~~~~~~~~~~~~\n",
      "With criterion: entropy max_depth: 18 and n_estimators: 500\n",
      "acc =  0.743 auc =  0.814 recall =  0.819 F1 score =  0.773\n",
      "~~~~~~~~~~~~~~~~~~~~~~~~~~~~~~~~~~~~~~~~~~~~~~~~~~~~~~\n",
      "With criterion: entropy max_depth: 22 and n_estimators: 100\n",
      "acc =  0.726 auc =  0.807 recall =  0.786 F1 score =  0.754\n",
      "~~~~~~~~~~~~~~~~~~~~~~~~~~~~~~~~~~~~~~~~~~~~~~~~~~~~~~\n",
      "With criterion: entropy max_depth: 22 and n_estimators: 200\n",
      "acc =  0.735 auc =  0.811 recall =  0.816 F1 score =  0.767\n",
      "~~~~~~~~~~~~~~~~~~~~~~~~~~~~~~~~~~~~~~~~~~~~~~~~~~~~~~\n",
      "With criterion: entropy max_depth: 22 and n_estimators: 300\n",
      "acc =  0.733 auc =  0.811 recall =  0.807 F1 score =  0.763\n",
      "~~~~~~~~~~~~~~~~~~~~~~~~~~~~~~~~~~~~~~~~~~~~~~~~~~~~~~\n",
      "With criterion: entropy max_depth: 22 and n_estimators: 400\n",
      "acc =  0.737 auc =  0.813 recall =  0.813 F1 score =  0.768\n",
      "~~~~~~~~~~~~~~~~~~~~~~~~~~~~~~~~~~~~~~~~~~~~~~~~~~~~~~\n",
      "With criterion: entropy max_depth: 22 and n_estimators: 500\n",
      "acc =  0.742 auc =  0.815 recall =  0.817 F1 score =  0.772\n",
      "~~~~~~~~~~~~~~~~~~~~~~~~~~~~~~~~~~~~~~~~~~~~~~~~~~~~~~\n"
     ]
    }
   ],
   "source": [
    "#Loop through parameters and print scores to find optimal\n",
    "for method in methods:\n",
    "    for depth in max_depth_options:\n",
    "        for estimator in estimator_options:\n",
    "            rf = RandomForestClassifier(random_state=4, n_estimators=estimator, criterion=method, max_depth=depth)\n",
    "            rf.fit(X_train,y_train)\n",
    "            pred = rf.predict(X_test)\n",
    "            prob = rf.predict_proba(X_test)\n",
    "            acc = metrics.accuracy_score(y_test,pred)\n",
    "            auc = metrics.roc_auc_score(y_test,prob[:,1])\n",
    "            recall = metrics.recall_score(y_test,pred)\n",
    "            f1 = metrics.f1_score(y_test,pred)\n",
    "            print('With criterion:', method, 'max_depth:',depth, 'and n_estimators:', estimator)\n",
    "            print('acc = ', round(acc,3), 'auc = ', round(auc,3), 'recall = ',round(recall,3), 'F1 score = ', round(f1,3))\n",
    "            print('~~~~~~~~~~~~~~~~~~~~~~~~~~~~~~~~~~~~~~~~~~~~~~~~~~~~~~')"
   ]
  },
  {
   "cell_type": "code",
   "execution_count": 140,
   "metadata": {},
   "outputs": [
    {
     "name": "stdout",
     "output_type": "stream",
     "text": [
      "With criterion: entropy max_depth: 10 and n_estimators: 400\n",
      "acc =  0.74 auc =  0.806 recall =  0.833 F1 score =  0.774\n"
     ]
    }
   ],
   "source": [
    "#Highest resulting combination of Recall and Accuarcy used hyper parameters: entropy, 10 max depth, 400 estimators\n",
    "depth = 10\n",
    "method = 'entropy'\n",
    "estimator = 400\n",
    "rf = RandomForestClassifier(random_state=4, n_estimators=estimator, criterion=method, max_depth=depth)\n",
    "rf.fit(X_train,y_train)\n",
    "pred = rf.predict(X_test)\n",
    "prob = rf.predict_proba(X_test)\n",
    "acc = metrics.accuracy_score(y_test,pred)\n",
    "auc = metrics.roc_auc_score(y_test,prob[:,1])\n",
    "recall = metrics.recall_score(y_test,pred)\n",
    "f1 = metrics.f1_score(y_test,pred)\n",
    "print('With criterion:', method, 'max_depth:',depth, 'and n_estimators:', estimator)\n",
    "print('acc = ', round(acc,3), 'auc = ', round(auc,3), 'recall = ',round(recall,3), 'F1 score = ', round(f1,3))"
   ]
  },
  {
   "cell_type": "code",
   "execution_count": 141,
   "metadata": {},
   "outputs": [
    {
     "data": {
      "text/plain": [
       "<sklearn.metrics._plot.roc_curve.RocCurveDisplay at 0x7fc6d2041d90>"
      ]
     },
     "execution_count": 141,
     "metadata": {},
     "output_type": "execute_result"
    },
    {
     "data": {
      "image/png": "[encoded data removed]",
      "text/plain": [
       "<Figure size 432x288 with 1 Axes>"
      ]
     },
     "metadata": {
      "needs_background": "light"
     },
     "output_type": "display_data"
    }
   ],
   "source": [
    "metrics.plot_roc_curve(rf, X_test, y_test)"
   ]
  },
  {
   "cell_type": "markdown",
   "metadata": {},
   "source": [
    "### Determining Feature importance based on impurity (entropy)"
   ]
  },
  {
   "cell_type": "code",
   "execution_count": 142,
   "metadata": {},
   "outputs": [],
   "source": [
    "feat_importance = rf.feature_importances_"
   ]
  },
  {
   "cell_type": "code",
   "execution_count": 153,
   "metadata": {},
   "outputs": [],
   "source": [
    "feature_names = [X_test.columns[i] for i in range(X_test.shape[1])]"
   ]
  },
  {
   "cell_type": "code",
   "execution_count": 144,
   "metadata": {},
   "outputs": [
    {
     "data": {
      "text/plain": [
       "age_s1_common    0.069236\n",
       "gender_x         0.000136\n",
       "mstat            0.001583\n",
       "cmp1yr25         0.001129\n",
       "modact25         0.000413\n",
       "                   ...   \n",
       "EOGLqual         0.000306\n",
       "Chinqual         0.000521\n",
       "Oximqual         0.000088\n",
       "Posqual          0.000181\n",
       "LightOff         0.001699\n",
       "Length: 722, dtype: float64"
      ]
     },
     "execution_count": 144,
     "metadata": {},
     "output_type": "execute_result"
    },
    {
     "data": {
      "image/png": "[encoded data removed]",
      "text/plain": [
       "<Figure size 432x288 with 1 Axes>"
      ]
     },
     "metadata": {
      "needs_background": "light"
     },
     "output_type": "display_data"
    }
   ],
   "source": [
    "forest_importances = pd.Series(feat_importance, index=feature_names)\n",
    "fig, ax = plt.subplots()\n",
    "forest_importances"
   ]
  },
  {
   "cell_type": "code",
   "execution_count": 147,
   "metadata": {
    "scrolled": false
   },
   "outputs": [
    {
     "data": {
      "text/plain": [
       "<AxesSubplot:>"
      ]
     },
     "execution_count": 147,
     "metadata": {},
     "output_type": "execute_result"
    },
    {
     "data": {
      "image/png": "[encoded data removed]",
      "text/plain": [
       "<Figure size 432x288 with 1 Axes>"
      ]
     },
     "metadata": {
      "needs_background": "light"
     },
     "output_type": "display_data"
    }
   ],
   "source": [
    "forest_importances.sort_values(ascending=False)[0:9]\n",
    "forest_importances.sort_values(ascending=False)[0:9].plot.bar()"
   ]
  },
  {
   "cell_type": "markdown",
   "metadata": {},
   "source": [
    "### Save and Practice Loading back in model"
   ]
  },
  {
   "cell_type": "code",
   "execution_count": 162,
   "metadata": {},
   "outputs": [],
   "source": [
    "filepath = 'final_RF_model.sav'\n",
    "pickle.dump(rf, open(filepath, 'wb'))\n",
    "X_test.to_csv('Input_Variables.csv', index=False)"
   ]
  },
  {
   "cell_type": "code",
   "execution_count": 149,
   "metadata": {},
   "outputs": [
    {
     "name": "stdout",
     "output_type": "stream",
     "text": [
      "With criterion: entropy max_depth: 10 and n_estimators: 400\n",
      "acc =  0.74 auc =  0.806 recall =  0.833 F1 score =  0.774\n"
     ]
    }
   ],
   "source": [
    "test_load = pickle.load(open(filepath, 'rb'))\n",
    "pred = test_load.predict(X_test)\n",
    "prob = test_load.predict_proba(X_test)\n",
    "acc = metrics.accuracy_score(y_test,pred)\n",
    "auc = metrics.roc_auc_score(y_test,prob[:,1])\n",
    "recall = metrics.recall_score(y_test,pred)\n",
    "f1 = metrics.f1_score(y_test,pred)\n",
    "print('With criterion:', method, 'max_depth:',depth, 'and n_estimators:', estimator)\n",
    "print('acc = ', round(acc,3), 'auc = ', round(auc,3), 'recall = ',round(recall,3), 'F1 score = ', round(f1,3))"
   ]
  }
 ],
 "metadata": {
  "colab": {
   "collapsed_sections": [],
   "name": "ML_FinalProject_KyleGuillen.ipynb",
   "provenance": []
  },
  "kernelspec": {
   "display_name": "Python 3 (ipykernel)",
   "language": "python",
   "name": "python3"
  },
  "language_info": {
   "codemirror_mode": {
    "name": "ipython",
    "version": 3
   },
   "file_extension": ".py",
   "mimetype": "text/x-python",
   "name": "python",
   "nbconvert_exporter": "python",
   "pygments_lexer": "ipython3",
   "version": "3.9.7"
  }
 },
 "nbformat": 4,
 "nbformat_minor": 1
}
